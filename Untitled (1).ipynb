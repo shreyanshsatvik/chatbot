{
 "cells": [
  {
   "cell_type": "markdown",
   "metadata": {},
   "source": [
    "Chat Bot Implementation\n",
    "\n",
    "        PART -01 Data Preprocessing\n",
    "        "
   ]
  },
  {
   "cell_type": "code",
   "execution_count": null,
   "metadata": {},
   "outputs": [],
   "source": [
    "import numpy as np\n",
    "import tensorflow as tf\n",
    "import re\n",
    "import time"
   ]
  },
  {
   "cell_type": "markdown",
   "metadata": {},
   "source": [
    "Importing the Dataset\n"
   ]
  },
  {
   "cell_type": "code",
   "execution_count": null,
   "metadata": {},
   "outputs": [],
   "source": [
    "lines= open('movie_lines.txt', encoding= 'utf-8', errors='ignore').read().split('\\n')\n",
    "conversation= open('movie_conversations.txt', encoding= 'utf-8', errors='ignore').read().split('\\n')"
   ]
  },
  {
   "cell_type": "markdown",
   "metadata": {
    "slideshow": {
     "slide_type": "subslide"
    }
   },
   "source": [
    "\n",
    "CREATING A DICTIONARY THAT MAPS EACH LINE AND ITS ID\n",
    "    "
   ]
  },
  {
   "cell_type": "code",
   "execution_count": null,
   "metadata": {},
   "outputs": [],
   "source": [
    "print(lines)\n"
   ]
  },
  {
   "cell_type": "code",
   "execution_count": null,
   "metadata": {},
   "outputs": [],
   "source": [
    "lines"
   ]
  },
  {
   "cell_type": "code",
   "execution_count": null,
   "metadata": {},
   "outputs": [],
   "source": [
    "conversations\n"
   ]
  },
  {
   "cell_type": "code",
   "execution_count": null,
   "metadata": {},
   "outputs": [],
   "source": [
    "conversation\n"
   ]
  },
  {
   "cell_type": "markdown",
   "metadata": {},
   "source": [
    " DICTIONARY THAT WILL MAP WITH EACH LINE AND ITS ID\n",
    " "
   ]
  },
  {
   "cell_type": "code",
   "execution_count": null,
   "metadata": {},
   "outputs": [],
   "source": [
    "id2line={}\n",
    "for line in lines:\n",
    "    _line = line.split(' +++$+++ ')\n",
    "    if len(_line)==5:\n",
    "        id2line[_line[0]] =_line[4]\n",
    "        "
   ]
  },
  {
   "cell_type": "markdown",
   "metadata": {},
   "source": [
    " Printing and checking the dictionary id2line"
   ]
  },
  {
   "cell_type": "code",
   "execution_count": null,
   "metadata": {},
   "outputs": [],
   "source": [
    "id2line"
   ]
  },
  {
   "cell_type": "markdown",
   "metadata": {},
   "source": [
    "LIST CONSTAING ALL THE CONVERSATIONS"
   ]
  },
  {
   "cell_type": "code",
   "execution_count": null,
   "metadata": {},
   "outputs": [],
   "source": [
    "conversations_ids=[]\n",
    "for conversations in conversation[:-1]:\n",
    "    _conversations = conversations.split(' +++$+++ ')[-1][1:-1].replace(\"'\",\"\").replace(\" \",\"\")\n",
    "    conversations_ids.append(_conversations.split(','))\n",
    "    \n",
    "    \n",
    "    \n",
    "    "
   ]
  },
  {
   "cell_type": "code",
   "execution_count": null,
   "metadata": {},
   "outputs": [],
   "source": [
    "conversations_ids\n"
   ]
  },
  {
   "cell_type": "markdown",
   "metadata": {},
   "source": [
    "GETTING SEPARATELY THE QUESTIONS AND THE ANSWERS"
   ]
  },
  {
   "cell_type": "code",
   "execution_count": null,
   "metadata": {},
   "outputs": [],
   "source": [
    "questions=[]\n",
    "answers=[]\n",
    "for conversations in conversations_ids:\n",
    "    for i in range(len(conversations)-1):\n",
    "        questions.append(id2line[conversations[i]])\n",
    "        answers.append(id2line[conversations[i+1]])\n",
    "        "
   ]
  },
  {
   "cell_type": "code",
   "execution_count": null,
   "metadata": {},
   "outputs": [],
   "source": [
    "questions\n"
   ]
  },
  {
   "cell_type": "code",
   "execution_count": null,
   "metadata": {},
   "outputs": [],
   "source": [
    "answers\n"
   ]
  },
  {
   "cell_type": "markdown",
   "metadata": {},
   "source": [
    "Cleaning of Texts"
   ]
  },
  {
   "cell_type": "code",
   "execution_count": null,
   "metadata": {},
   "outputs": [],
   "source": [
    "def clean_text(text):\n",
    "    text=text.lower()\n",
    "    text= re.sub(r\"i'm\",\"i am\",text)\n",
    "    text= re.sub(r\"he's\",\"he is\",text)\n",
    "    text= re.sub(r\"she's\",\"she is\",text)\n",
    "    text= re.sub(r\"that's\",\"that is\",text)\n",
    "    text= re.sub(r\"what's\",\"what is\",text)\n",
    "    text= re.sub(r\"where's\",\"where is\",text)\n",
    "    text= re.sub(r\"\\'ll\",\" will\",text)\n",
    "    text= re.sub(r\"\\'ve\",\" have\",text)\n",
    "    text= re.sub(r\"\\'d\",\" would\",text)\n",
    "    text= re.sub(r\"won't\",\"will not\",text)\n",
    "    text= re.sub(r\"can't\",\" can not\",text)\n",
    "    text= re.sub(r\"[-()\\\"#/@$;:<>+=`~|.?,]\", \"\",text)\n",
    "    return text\n",
    "\n",
    "    \n",
    "    \n",
    "        \n",
    "\n",
    "    "
   ]
  },
  {
   "cell_type": "code",
   "execution_count": null,
   "metadata": {},
   "outputs": [],
   "source": [
    "clean_questions = []\n",
    "for question in questions:\n",
    "    clean_questions.append(clean_text(question))\n",
    "clean_answers = []\n",
    "for answer in answers:\n",
    "    clean_answers.append(clean_text(answer))"
   ]
  },
  {
   "cell_type": "code",
   "execution_count": null,
   "metadata": {},
   "outputs": [],
   "source": [
    "clean_questions\n"
   ]
  },
  {
   "cell_type": "code",
   "execution_count": null,
   "metadata": {},
   "outputs": [],
   "source": [
    "clean_answers"
   ]
  },
  {
   "cell_type": "markdown",
   "metadata": {},
   "source": [
    " CREATING A DICTIONARY THAT MAPS EACH WORK TO ITS NO OF OCCURENCES"
   ]
  },
  {
   "cell_type": "code",
   "execution_count": null,
   "metadata": {},
   "outputs": [],
   "source": [
    "word2count ={}\n",
    "for question in clean_questions:\n",
    "    for word in question.split():\n",
    "        if word not in word2count:\n",
    "            word2count[word] = 1\n",
    "        else:\n",
    "            word2count[word] += 1\n",
    "            \n",
    "for answer in clean_answers:\n",
    "    for word in answer.split():\n",
    "        if word not in word2count:\n",
    "            word2count[word] = 1\n",
    "        else:\n",
    "            word2count[word] += 1\n",
    "        "
   ]
  },
  {
   "cell_type": "code",
   "execution_count": null,
   "metadata": {},
   "outputs": [],
   "source": [
    "word2count"
   ]
  },
  {
   "cell_type": "markdown",
   "metadata": {},
   "source": [
    "CREATING TWO DICTIONARIES THAT MAP THE QUESTION WORDS AND ANSWER WORDS TO A UNIQUE INTEGER\n"
   ]
  },
  {
   "cell_type": "code",
   "execution_count": null,
   "metadata": {},
   "outputs": [],
   "source": [
    "threshold =20\n",
    "questionsword2int = {}\n",
    "word_number=0\n",
    "for word,count in word2count.items():\n",
    "    if(count>=threshold):\n",
    "        questionsword2int[word] = word_number\n",
    "        word_number += 1\n",
    "answersword2int = {}\n",
    "word_number=0\n",
    "for word,count in word2count.items():\n",
    "    if(count>=threshold):\n",
    "        answersword2int[word] = word_number\n",
    "        word_number += 1\n",
    "        "
   ]
  },
  {
   "cell_type": "code",
   "execution_count": null,
   "metadata": {},
   "outputs": [],
   "source": [
    "questionsword2int"
   ]
  },
  {
   "cell_type": "code",
   "execution_count": null,
   "metadata": {},
   "outputs": [],
   "source": [
    "answersword2int"
   ]
  },
  {
   "cell_type": "markdown",
   "metadata": {},
   "source": [
    "ADDING THE LAST TOKEN TO THESE DICTIONARIES"
   ]
  },
  {
   "cell_type": "code",
   "execution_count": null,
   "metadata": {},
   "outputs": [],
   "source": [
    "tokens = ['<PAD>','<EOS>','<OUT>','<SOS>']\n",
    "for token in tokens:\n",
    "    questionsword2int[token] = len(questionsword2int)+1\n",
    "for token in tokens:\n",
    "    answersword2int[token] = len(answersword2int)+1"
   ]
  },
  {
   "cell_type": "code",
   "execution_count": null,
   "metadata": {},
   "outputs": [],
   "source": [
    "questionsword2int"
   ]
  },
  {
   "cell_type": "code",
   "execution_count": null,
   "metadata": {},
   "outputs": [],
   "source": [
    "answersword2int"
   ]
  },
  {
   "cell_type": "markdown",
   "metadata": {},
   "source": [
    " INVERSE THE DICTIONARY OF ANSWERSWORD2INT DICTIONARY"
   ]
  },
  {
   "cell_type": "code",
   "execution_count": null,
   "metadata": {},
   "outputs": [],
   "source": [
    "answersint2word = {w_i: w for w, w_i in answersword2int.items()}\n"
   ]
  },
  {
   "cell_type": "code",
   "execution_count": null,
   "metadata": {},
   "outputs": [],
   "source": [
    "answersint2word"
   ]
  },
  {
   "cell_type": "markdown",
   "metadata": {},
   "source": [
    "    ADDING EOS TO THE END OF EVERY ANSWERS"
   ]
  },
  {
   "cell_type": "code",
   "execution_count": null,
   "metadata": {},
   "outputs": [],
   "source": [
    "for i in range(len(clean_answers)):\n",
    "    clean_answers[i] += \" <EOS>\""
   ]
  },
  {
   "cell_type": "code",
   "execution_count": null,
   "metadata": {},
   "outputs": [],
   "source": [
    "clean_answers[1]"
   ]
  },
  {
   "cell_type": "markdown",
   "metadata": {},
   "source": [
    "TRANSMITTING ALL THE QUESTIONS AND ANSWERS INTO INTEGERAND REPLACING ALL THE WORDS"
   ]
  },
  {
   "cell_type": "code",
   "execution_count": null,
   "metadata": {},
   "outputs": [],
   "source": [
    "questions_to_int=[]\n",
    "for index in clean_questions:\n",
    "    ints=[]\n",
    "    for i in index.split():\n",
    "        if i not in questionsword2int:\n",
    "            ints.append(questionsword2int['<OUT>'])\n",
    "        else:\n",
    "            ints.append(questionsword2int[i])  \n",
    "    questions_to_int.append(ints)\n",
    "answers_to_int=[]\n",
    "for index in clean_answers:\n",
    "    ints=[]\n",
    "    for i in index.split():\n",
    "        if i not in answersword2int:\n",
    "            ints.append(answersword2int['<OUT>'])\n",
    "        else:\n",
    "            ints.append(answersword2int[i])  \n",
    "    answers_to_int.append(ints)"
   ]
  },
  {
   "cell_type": "code",
   "execution_count": null,
   "metadata": {},
   "outputs": [],
   "source": [
    "questions_to_int"
   ]
  },
  {
   "cell_type": "code",
   "execution_count": null,
   "metadata": {},
   "outputs": [],
   "source": [
    "answers_to_int"
   ]
  },
  {
   "cell_type": "markdown",
   "metadata": {},
   "source": [
    "SORTING QUESTIONS AND ANSWERS BY LENGTH OF QUESTIONS TO SPEEDUP TRAINING AND TO OPTIMIZE "
   ]
  },
  {
   "cell_type": "code",
   "execution_count": null,
   "metadata": {},
   "outputs": [],
   "source": [
    "sorted_clean_questions =[]\n",
    "sorted_clean_answers = []\n",
    "for length in range(1,25+1):\n",
    "    for i in enumerate(questions_to_int):\n",
    "        if(len(i[1])== length):\n",
    "            sorted_clean_questions.append(questions_to_int[i[0]])\n",
    "            sorted_clean_answers.append(answers_to_int[i[0]])\n",
    "    "
   ]
  },
  {
   "cell_type": "code",
   "execution_count": null,
   "metadata": {},
   "outputs": [],
   "source": [
    "sorted_clean_questions"
   ]
  },
  {
   "cell_type": "code",
   "execution_count": null,
   "metadata": {},
   "outputs": [],
   "source": [
    "sorted_clean_answers"
   ]
  },
  {
   "cell_type": "code",
   "execution_count": null,
   "metadata": {},
   "outputs": [],
   "source": []
  }
 ],
 "metadata": {
  "kernelspec": {
   "display_name": "Python 3",
   "language": "python",
   "name": "python3"
  },
  "language_info": {
   "codemirror_mode": {
    "name": "ipython",
    "version": 3
   },
   "file_extension": ".py",
   "mimetype": "text/x-python",
   "name": "python",
   "nbconvert_exporter": "python",
   "pygments_lexer": "ipython3",
   "version": "3.7.4"
  },
  "varInspector": {
   "cols": {
    "lenName": 16,
    "lenType": 16,
    "lenVar": 40
   },
   "kernels_config": {
    "python": {
     "delete_cmd_postfix": "",
     "delete_cmd_prefix": "del ",
     "library": "var_list.py",
     "varRefreshCmd": "print(var_dic_list())"
    },
    "r": {
     "delete_cmd_postfix": ") ",
     "delete_cmd_prefix": "rm(",
     "library": "var_list.r",
     "varRefreshCmd": "cat(var_dic_list()) "
    }
   },
   "types_to_exclude": [
    "module",
    "function",
    "builtin_function_or_method",
    "instance",
    "_Feature"
   ],
   "window_display": false
  }
 },
 "nbformat": 4,
 "nbformat_minor": 2
}
